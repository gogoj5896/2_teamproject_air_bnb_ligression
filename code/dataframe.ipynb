{
 "cells": [
  {
   "cell_type": "markdown",
   "metadata": {},
   "source": [
    "# 데이터 로딩"
   ]
  },
  {
   "cell_type": "code",
   "execution_count": 1,
   "metadata": {},
   "outputs": [
    {
     "name": "stderr",
     "output_type": "stream",
     "text": [
      "/home/dockeruser/anaconda2/lib/python2.7/site-packages/IPython/core/interactiveshell.py:2717: DtypeWarning: Columns (5,7,11,14,18) have mixed types. Specify dtype option on import or set low_memory=False.\n",
      "  interactivity=interactivity, compiler=compiler, result=result)\n"
     ]
    }
   ],
   "source": [
    "df1 = pd.read_csv(\"~/hosthome/1_data/all1.csv\")"
   ]
  },
  {
   "cell_type": "code",
   "execution_count": 2,
   "metadata": {},
   "outputs": [
    {
     "data": {
      "text/plain": [
       "Index([u'Unnamed: 0', u'Unnamed: 0.1', u'accommodates', u'bathrooms',\n",
       "       u'bedrooms', u'borough', u'city', u'country', u'host_id',\n",
       "       u'last_modified', u'latitude', u'location', u'longitude', u'minstay',\n",
       "       u'name', u'neighborhood', u'overall_satisfaction', u'price',\n",
       "       u'property_type', u'reviews', u'room_id', u'room_type', u'survey_id'],\n",
       "      dtype='object')"
      ]
     },
     "execution_count": 2,
     "metadata": {},
     "output_type": "execute_result"
    }
   ],
   "source": [
    "df1.columns"
   ]
  },
  {
   "cell_type": "markdown",
   "metadata": {},
   "source": [
    "# 컬럼 버림"
   ]
  },
  {
   "cell_type": "code",
   "execution_count": 3,
   "metadata": {
    "collapsed": true
   },
   "outputs": [],
   "source": [
    "df1 = df1.drop(['Unnamed: 0', 'Unnamed: 0.1', 'bathrooms', 'borough', 'country',\n",
    "       'last_modified', 'latitude', 'location', 'longitude', 'minstay',\n",
    "       'name', 'neighborhood', 'property_type', 'survey_id'], axis=1)"
   ]
  },
  {
   "cell_type": "code",
   "execution_count": 5,
   "metadata": {},
   "outputs": [
    {
     "data": {
      "text/plain": [
       "new_york                 164607\n",
       "paris                    157938\n",
       "los_angeles              123413\n",
       "london                    88361\n",
       "rome                      67043\n",
       "san_francisco             44152\n",
       "new york                  40733\n",
       "tuscany                   38783\n",
       "toronto                   38335\n",
       "miami                     37100\n",
       "montreal                  35555\n",
       "veneto                    32366\n",
       "lisbon                    30103\n",
       "sydney                    29426\n",
       "philadelphia              28424\n",
       "washington                27626\n",
       "san_diego                 24374\n",
       "seoul                     22413\n",
       "switzerland               22104\n",
       "vancouver_bc              21306\n",
       "oahu                      20657\n",
       "seattle                   19458\n",
       "new_orleans               17590\n",
       "portland                  13297\n",
       "madrid                    12615\n",
       "sri lanka                 11568\n",
       "iceland                   11248\n",
       "moscow                    10374\n",
       "nice                       9604\n",
       "lyon                       9494\n",
       "reykjavik                  9096\n",
       "vienna                     7790\n",
       "singapore                  6828\n",
       "versailles                 6003\n",
       "venice                     5801\n",
       "las vegas                  5520\n",
       "porto                      4729\n",
       "hungary                    4507\n",
       "ottawa                     4373\n",
       "palermo                    4086\n",
       "nashville                  4067\n",
       "warsaw                     3389\n",
       "tallin                     3176\n",
       "turin                      3092\n",
       "wellington                 2616\n",
       "newhaven_ct                1958\n",
       "victoria_bc                1791\n",
       "jersey city                1647\n",
       "york                       1206\n",
       "queenstown                 1205\n",
       "prince georges county      1135\n",
       "peel                        927\n",
       "zurich                      912\n",
       "pittsburgh                  892\n",
       "lincoln county              878\n",
       "saint lucia                 761\n",
       "savannah                    752\n",
       "richmond bc                 531\n",
       "portland_me                 456\n",
       "newhaven ct                 420\n",
       "santa barbara               359\n",
       "kitchener waterloo          349\n",
       "kitchener_waterloo          282\n",
       "joshua tree                 160\n",
       "yellowknife                  93\n",
       "newport                      83\n",
       "Name: city, dtype: int64"
      ]
     },
     "execution_count": 5,
     "metadata": {},
     "output_type": "execute_result"
    }
   ],
   "source": [
    "pd.options.display.max_rows = 2000000\n",
    "df1['city'] = df1.city.str.lower()\n",
    "df1[\"city\"].value_counts()"
   ]
  },
  {
   "cell_type": "markdown",
   "metadata": {},
   "source": [
    "# 분석에 필요한 7개 도시 제외 데이터 드롭"
   ]
  },
  {
   "cell_type": "code",
   "execution_count": 6,
   "metadata": {
    "collapsed": true
   },
   "outputs": [],
   "source": [
    "df1 = df1[(df1['city'] == 'new_york') | (df1['city'] == 'paris') | (df1['city'] == 'los_angeles') | (df1['city'] == 'london') |\n",
    "        (df1['city'] == 'rome') | (df1['city'] == 'new york') | (df1['city'] == 'seoul') | (df1['city'] == 'singapore')]"
   ]
  },
  {
   "cell_type": "code",
   "execution_count": 7,
   "metadata": {},
   "outputs": [
    {
     "data": {
      "text/plain": [
       "new_york       164607\n",
       "paris          157938\n",
       "los_angeles    123413\n",
       "london          88361\n",
       "rome            67043\n",
       "new york        40733\n",
       "seoul           22413\n",
       "singapore        6828\n",
       "Name: city, dtype: int64"
      ]
     },
     "execution_count": 7,
     "metadata": {},
     "output_type": "execute_result"
    }
   ],
   "source": [
    "df1[\"city\"].value_counts()"
   ]
  },
  {
   "cell_type": "code",
   "execution_count": 8,
   "metadata": {},
   "outputs": [
    {
     "data": {
      "text/html": [
       "<div>\n",
       "<table border=\"1\" class=\"dataframe\">\n",
       "  <thead>\n",
       "    <tr style=\"text-align: right;\">\n",
       "      <th></th>\n",
       "      <th>accommodates</th>\n",
       "      <th>bedrooms</th>\n",
       "      <th>city</th>\n",
       "      <th>host_id</th>\n",
       "      <th>overall_satisfaction</th>\n",
       "      <th>price</th>\n",
       "      <th>reviews</th>\n",
       "      <th>room_id</th>\n",
       "      <th>room_type</th>\n",
       "    </tr>\n",
       "  </thead>\n",
       "  <tbody>\n",
       "    <tr>\n",
       "      <th>54694</th>\n",
       "      <td>1.0</td>\n",
       "      <td>1.0</td>\n",
       "      <td>london</td>\n",
       "      <td>36478522.0</td>\n",
       "      <td>4.0</td>\n",
       "      <td>67.0</td>\n",
       "      <td>5.0</td>\n",
       "      <td>8000111</td>\n",
       "      <td>Private room</td>\n",
       "    </tr>\n",
       "    <tr>\n",
       "      <th>54695</th>\n",
       "      <td>2.0</td>\n",
       "      <td>1.0</td>\n",
       "      <td>london</td>\n",
       "      <td>35573342.0</td>\n",
       "      <td>5.0</td>\n",
       "      <td>142.0</td>\n",
       "      <td>12.0</td>\n",
       "      <td>6801173</td>\n",
       "      <td>Entire home/apt</td>\n",
       "    </tr>\n",
       "    <tr>\n",
       "      <th>54696</th>\n",
       "      <td>2.0</td>\n",
       "      <td>1.0</td>\n",
       "      <td>london</td>\n",
       "      <td>5146739.0</td>\n",
       "      <td>4.0</td>\n",
       "      <td>75.0</td>\n",
       "      <td>3.0</td>\n",
       "      <td>6210911</td>\n",
       "      <td>Private room</td>\n",
       "    </tr>\n",
       "    <tr>\n",
       "      <th>54697</th>\n",
       "      <td>2.0</td>\n",
       "      <td>1.0</td>\n",
       "      <td>london</td>\n",
       "      <td>4491665.0</td>\n",
       "      <td>5.0</td>\n",
       "      <td>209.0</td>\n",
       "      <td>29.0</td>\n",
       "      <td>1508737</td>\n",
       "      <td>Entire home/apt</td>\n",
       "    </tr>\n",
       "    <tr>\n",
       "      <th>54698</th>\n",
       "      <td>1.0</td>\n",
       "      <td>1.0</td>\n",
       "      <td>london</td>\n",
       "      <td>3518455.0</td>\n",
       "      <td>4.5</td>\n",
       "      <td>75.0</td>\n",
       "      <td>33.0</td>\n",
       "      <td>688990</td>\n",
       "      <td>Private room</td>\n",
       "    </tr>\n",
       "  </tbody>\n",
       "</table>\n",
       "</div>"
      ],
      "text/plain": [
       "       accommodates  bedrooms    city     host_id  overall_satisfaction  \\\n",
       "54694           1.0       1.0  london  36478522.0                   4.0   \n",
       "54695           2.0       1.0  london  35573342.0                   5.0   \n",
       "54696           2.0       1.0  london   5146739.0                   4.0   \n",
       "54697           2.0       1.0  london   4491665.0                   5.0   \n",
       "54698           1.0       1.0  london   3518455.0                   4.5   \n",
       "\n",
       "       price  reviews  room_id        room_type  \n",
       "54694   67.0      5.0  8000111     Private room  \n",
       "54695  142.0     12.0  6801173  Entire home/apt  \n",
       "54696   75.0      3.0  6210911     Private room  \n",
       "54697  209.0     29.0  1508737  Entire home/apt  \n",
       "54698   75.0     33.0   688990     Private room  "
      ]
     },
     "execution_count": 8,
     "metadata": {},
     "output_type": "execute_result"
    }
   ],
   "source": [
    "df1.head()"
   ]
  },
  {
   "cell_type": "code",
   "execution_count": 13,
   "metadata": {
    "collapsed": true
   },
   "outputs": [],
   "source": [
    "df1.to_csv(\"~/hosthome/1_data/all1_new.csv\")"
   ]
  },
  {
   "cell_type": "code",
   "execution_count": null,
   "metadata": {
    "collapsed": true
   },
   "outputs": [],
   "source": []
  }
 ],
 "metadata": {
  "kernelspec": {
   "display_name": "Python 2",
   "language": "python",
   "name": "python2"
  },
  "language_info": {
   "codemirror_mode": {
    "name": "ipython",
    "version": 2
   },
   "file_extension": ".py",
   "mimetype": "text/x-python",
   "name": "python",
   "nbconvert_exporter": "python",
   "pygments_lexer": "ipython2",
   "version": "2.7.13"
  }
 },
 "nbformat": 4,
 "nbformat_minor": 2
}
